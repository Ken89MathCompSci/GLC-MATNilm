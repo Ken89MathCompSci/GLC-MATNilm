{
  "nbformat": 4,
  "nbformat_minor": 0,
  "metadata": {
    "colab": {
      "provenance": [],
      "gpuType": "T4",
      "authorship_tag": "ABX9TyOvp+qpGduBQB0GuXVbrm+Y",
      "include_colab_link": true
    },
    "kernelspec": {
      "name": "python3",
      "display_name": "Python 3"
    },
    "language_info": {
      "name": "python"
    },
    "accelerator": "GPU"
  },
  "cells": [
    {
      "cell_type": "markdown",
      "metadata": {
        "id": "view-in-github",
        "colab_type": "text"
      },
      "source": [
        "<a href=\"https://colab.research.google.com/github/Ken89MathCompSci/GLC-MATNilm/blob/kengoh-learnable-positional-encoding-and-loss-function-only/23-September-2025-Patience-20-Rerunning.ipynb\" target=\"_parent\"><img src=\"https://colab.research.google.com/assets/colab-badge.svg\" alt=\"Open In Colab\"/></a>"
      ]
    },
    {
      "cell_type": "code",
      "execution_count": 1,
      "metadata": {
        "colab": {
          "base_uri": "https://localhost:8080/",
          "height": 35
        },
        "id": "UM3tIq4kI_hJ",
        "outputId": "4dff4b66-e8bc-4e4d-d21e-c8a6dbe1fffd"
      },
      "outputs": [
        {
          "output_type": "execute_result",
          "data": {
            "text/plain": [
              "'/content'"
            ],
            "application/vnd.google.colaboratory.intrinsic+json": {
              "type": "string"
            }
          },
          "metadata": {},
          "execution_count": 1
        }
      ],
      "source": [
        "pwd"
      ]
    },
    {
      "cell_type": "code",
      "source": [
        "\n",
        "cd GLC-MATNilm/"
      ],
      "metadata": {
        "colab": {
          "base_uri": "https://localhost:8080/"
        },
        "id": "JqRRV3k9JjAV",
        "outputId": "9c5ea633-9941-4e81-eb1c-91448cc9ebb8"
      },
      "execution_count": 2,
      "outputs": [
        {
          "output_type": "stream",
          "name": "stdout",
          "text": [
            "/content/GLC-MATNilm\n"
          ]
        }
      ]
    },
    {
      "cell_type": "code",
      "source": [
        "from google.colab import drive\n",
        "drive.mount('/content/drive')"
      ],
      "metadata": {
        "colab": {
          "base_uri": "https://localhost:8080/"
        },
        "id": "yLYMdXsxJkwc",
        "outputId": "5d042d17-99a9-488e-bba4-890485dea0e2"
      },
      "execution_count": 3,
      "outputs": [
        {
          "output_type": "stream",
          "name": "stdout",
          "text": [
            "Mounted at /content/drive\n"
          ]
        }
      ]
    },
    {
      "cell_type": "code",
      "source": [
        "%cd /content/GLC-MATNilm"
      ],
      "metadata": {
        "colab": {
          "base_uri": "https://localhost:8080/"
        },
        "id": "f2oy_7lDJoiI",
        "outputId": "d5338940-e97e-4a31-8a07-f0e4db397562"
      },
      "execution_count": 4,
      "outputs": [
        {
          "output_type": "stream",
          "name": "stdout",
          "text": [
            "/content/GLC-MATNilm\n"
          ]
        }
      ]
    },
    {
      "cell_type": "code",
      "source": [
        "\n",
        "import os\n",
        "os.makedirs('/content/GLC-MATNilm/history_model/colab_train/s0', exist_ok=True)"
      ],
      "metadata": {
        "id": "4-thEUsxJp5g"
      },
      "execution_count": 5,
      "outputs": []
    },
    {
      "cell_type": "code",
      "source": [
        "import os\n",
        "os.makedirs('/content/GLC-MATNilm/log/colab_train', exist_ok=True)"
      ],
      "metadata": {
        "id": "wW4Ew2oqJr4b"
      },
      "execution_count": 6,
      "outputs": []
    },
    {
      "cell_type": "code",
      "source": [
        "!python main.py --subName BERT4NILM_test --patience 20"
      ],
      "metadata": {
        "colab": {
          "base_uri": "https://localhost:8080/"
        },
        "id": "QLQaemOBJsiJ",
        "outputId": "9403e1c5-4814-46d6-8573-f9e2159d4c27"
      },
      "execution_count": null,
      "outputs": [
        {
          "output_type": "stream",
          "name": "stdout",
          "text": [
            "2025-09-22 16:00:20,770 - root - INFO - Using computation device: cuda:0\n",
            "2025-09-22 16:00:20,770 - root - INFO - Namespace(batch=32, lr=0.001, dropout=0.1, hidden=32, logname='root', subName='BERT4NILM_test', inputLength=864, outputLength=864, debug=False, dataAug=False, prob0=0.3, prob1=0.6, prob2=0.3, prob3=0.3, resume=False, checkpoint='All_best_onoff.ckpt', patience=20)\n",
            "2025-09-22 16:00:20,770 - root - INFO - loading data\n",
            "2025-09-22 16:00:20,812 - root - INFO - loading data finished\n",
            "2025-09-22 16:00:20,816 - root - INFO - Training size: 27937.\n",
            "2025-09-22 16:00:20,816 - root - INFO - Initialize model\n",
            "2025-09-22 16:00:21,074 - root - INFO - Model MAT\n",
            "2025-09-22 16:00:25,474 - root - INFO - Training start\n",
            "2025-09-22 16:00:25,474 - root - INFO - # of epoches: 0\n",
            "  0% 0/874 [00:00<?, ?it/s]/usr/local/lib/python3.12/dist-packages/torch/nn/modules/conv.py:366: UserWarning: Using padding='same' with even kernel lengths and odd dilation may require a zero-padded copy of the input be created (Triggered internally at /pytorch/aten/src/ATen/native/Convolution.cpp:1027.)\n",
            "  return F.conv1d(\n",
            "  4% 35/874 [00:34<12:54,  1.08it/s]"
          ]
        }
      ]
    }
  ]
}