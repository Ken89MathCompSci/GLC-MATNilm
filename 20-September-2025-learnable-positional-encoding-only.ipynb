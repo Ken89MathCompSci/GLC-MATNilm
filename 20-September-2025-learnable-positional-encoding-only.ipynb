{
  "nbformat": 4,
  "nbformat_minor": 0,
  "metadata": {
    "colab": {
      "provenance": [],
      "gpuType": "T4",
      "authorship_tag": "ABX9TyPyRtKJbMCOsFNhNUokCau8",
      "include_colab_link": true
    },
    "kernelspec": {
      "name": "python3",
      "display_name": "Python 3"
    },
    "language_info": {
      "name": "python"
    },
    "accelerator": "GPU"
  },
  "cells": [
    {
      "cell_type": "markdown",
      "metadata": {
        "id": "view-in-github",
        "colab_type": "text"
      },
      "source": [
        "<a href=\"https://colab.research.google.com/github/Ken89MathCompSci/GLC-MATNilm/blob/kengoh-learnable-positional-encoding-only/20-September-2025-learnable-positional-encoding-only.ipynb\" target=\"_parent\"><img src=\"https://colab.research.google.com/assets/colab-badge.svg\" alt=\"Open In Colab\"/></a>"
      ]
    },
    {
      "cell_type": "code",
      "execution_count": 1,
      "metadata": {
        "colab": {
          "base_uri": "https://localhost:8080/",
          "height": 35
        },
        "id": "5YZH5ETz8gLD",
        "outputId": "fc9220e3-3ea1-4907-f3b6-aa85f5d42959"
      },
      "outputs": [
        {
          "output_type": "execute_result",
          "data": {
            "text/plain": [
              "'/content'"
            ],
            "application/vnd.google.colaboratory.intrinsic+json": {
              "type": "string"
            }
          },
          "metadata": {},
          "execution_count": 1
        }
      ],
      "source": [
        "pwd"
      ]
    },
    {
      "cell_type": "code",
      "source": [
        "cd GLC-MATNilm/"
      ],
      "metadata": {
        "colab": {
          "base_uri": "https://localhost:8080/"
        },
        "id": "2TkbsscECL2s",
        "outputId": "2f0e37df-e4f8-4a18-a0d6-400fb979670d"
      },
      "execution_count": 1,
      "outputs": [
        {
          "output_type": "stream",
          "name": "stdout",
          "text": [
            "/content/GLC-MATNilm\n"
          ]
        }
      ]
    },
    {
      "cell_type": "code",
      "source": [
        "from google.colab import drive\n",
        "drive.mount('/content/drive')"
      ],
      "metadata": {
        "colab": {
          "base_uri": "https://localhost:8080/"
        },
        "id": "zpfgJ6E8Cw5A",
        "outputId": "a2a269cb-3159-403b-bd12-8312b176f84e"
      },
      "execution_count": 2,
      "outputs": [
        {
          "output_type": "stream",
          "name": "stdout",
          "text": [
            "Mounted at /content/drive\n"
          ]
        }
      ]
    },
    {
      "cell_type": "code",
      "source": [
        "%cd /content/GLC-MATNilm"
      ],
      "metadata": {
        "colab": {
          "base_uri": "https://localhost:8080/"
        },
        "id": "3aIvMpz1CymF",
        "outputId": "fbcec07a-58a0-41e3-eff0-07dec8cb3e17"
      },
      "execution_count": 3,
      "outputs": [
        {
          "output_type": "stream",
          "name": "stdout",
          "text": [
            "/content/GLC-MATNilm\n"
          ]
        }
      ]
    },
    {
      "cell_type": "code",
      "source": [
        "import os\n",
        "os.makedirs('/content/GLC-MATNilm/history_model/colab_train/s0', exist_ok=True)"
      ],
      "metadata": {
        "id": "XjT6NJtdC3gf"
      },
      "execution_count": 4,
      "outputs": []
    },
    {
      "cell_type": "code",
      "source": [
        "import os\n",
        "os.makedirs('/content/GLC-MATNilm/log/colab_train', exist_ok=True)"
      ],
      "metadata": {
        "id": "R5kvE5QJC5nu"
      },
      "execution_count": 5,
      "outputs": []
    },
    {
      "cell_type": "code",
      "source": [
        "!python main.py --dataAug --subName colab_train"
      ],
      "metadata": {
        "colab": {
          "base_uri": "https://localhost:8080/"
        },
        "id": "X7xB7Qi7C6Gb",
        "outputId": "5b268e9f-97cd-449e-edf8-df09df0e8cbe"
      },
      "execution_count": null,
      "outputs": [
        {
          "output_type": "stream",
          "name": "stdout",
          "text": [
            "2025-09-19 17:35:41,193 - root - INFO - Using computation device: cuda:0\n",
            "2025-09-19 17:35:41,193 - root - INFO - Namespace(batch=32, lr=0.001, dropout=0.1, hidden=32, logname='root', subName='colab_train', inputLength=864, outputLength=864, debug=False, dataAug=True, prob0=0.3, prob1=0.6, prob2=0.3, prob3=0.3, resume=False, checkpoint='All_best_onoff.ckpt')\n",
            "2025-09-19 17:35:41,193 - root - INFO - loading data\n",
            "2025-09-19 17:35:41,234 - root - INFO - loading data finished\n",
            "2025-09-19 17:35:41,238 - root - INFO - Training size: 27937.\n",
            "2025-09-19 17:35:41,238 - root - INFO - Initialize model\n",
            "2025-09-19 17:35:41,494 - root - INFO - Model MAT\n",
            "2025-09-19 17:35:46,969 - root - INFO - Training start\n",
            "2025-09-19 17:35:46,977 - root - INFO - # of epoches: 0\n",
            "  0% 0/874 [00:00<?, ?it/s]/usr/local/lib/python3.12/dist-packages/torch/nn/modules/conv.py:366: UserWarning: Using padding='same' with even kernel lengths and odd dilation may require a zero-padded copy of the input be created (Triggered internally at /pytorch/aten/src/ATen/native/Convolution.cpp:1027.)\n",
            "  return F.conv1d(\n",
            "100% 874/874 [17:22<00:00,  1.19s/it]\n",
            "2025-09-19 17:53:09,334 - root - INFO - Validation: \n",
            "2025-09-19 17:53:09,671 - root - INFO - Evaluate dish washer: \n",
            "2025-09-19 17:53:09,672 - root - INFO - MAE: 25.881092071533203\n",
            "2025-09-19 17:53:09,672 - root - INFO - SAE: 23.206268310546875\n",
            "2025-09-19 17:53:09,690 - root - INFO - F1: 0.8755298651252409\n",
            "2025-09-19 17:53:09,690 - root - INFO - Evaluate fridge: \n",
            "2025-09-19 17:53:09,691 - root - INFO - MAE: 33.23411178588867\n",
            "2025-09-19 17:53:09,691 - root - INFO - SAE: 8.457900047302246\n",
            "2025-09-19 17:53:09,694 - root - INFO - F1: 0.738619153674833\n",
            "2025-09-19 17:53:09,694 - root - INFO - Evaluate microwave: \n",
            "2025-09-19 17:53:09,695 - root - INFO - MAE: 16.635841369628906\n",
            "2025-09-19 17:53:09,695 - root - INFO - SAE: 14.037259101867676\n",
            "2025-09-19 17:53:09,698 - root - INFO - F1: 0.5856905158069884\n",
            "2025-09-19 17:53:09,698 - root - INFO - Evaluate wash: \n",
            "2025-09-19 17:53:09,698 - root - INFO - MAE: 38.91396713256836\n",
            "2025-09-19 17:53:09,699 - root - INFO - SAE: 34.69708251953125\n",
            "2025-09-19 17:53:09,702 - root - INFO - F1: 0.8760213143872113\n",
            "2025-09-19 17:53:09,709 - root - INFO - Epoch 0, train loss: 0.372, val loss: 9757.261.\n",
            "2025-09-19 17:53:09,824 - root - INFO - Model saved\n",
            "2025-09-19 17:53:09,824 - root - INFO - Early stopping overall: \n",
            "2025-09-19 17:53:09,824 - root - INFO - Validation loss decreased (inf --> 28.666252).  Saving model ...\n",
            "2025-09-19 17:53:09,929 - root - INFO - Model saved\n",
            "2025-09-19 17:53:09,930 - root - INFO - # of epoches: 1\n",
            " 87% 764/874 [15:14<02:18,  1.26s/it]"
          ]
        }
      ]
    }
  ]
}