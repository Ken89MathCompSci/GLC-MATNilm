{
  "nbformat": 4,
  "nbformat_minor": 0,
  "metadata": {
    "colab": {
      "provenance": [],
      "machine_shape": "hm",
      "gpuType": "T4",
      "authorship_tag": "ABX9TyPyRtKJbMCOsFNhNUokCau8",
      "include_colab_link": true
    },
    "kernelspec": {
      "name": "python3",
      "display_name": "Python 3"
    },
    "language_info": {
      "name": "python"
    },
    "accelerator": "GPU"
  },
  "cells": [
    {
      "cell_type": "markdown",
      "metadata": {
        "id": "view-in-github",
        "colab_type": "text"
      },
      "source": [
        "<a href=\"https://colab.research.google.com/github/Ken89MathCompSci/GLC-MATNilm/blob/kengoh-new-try/19-September-2025-Run-with-dataAug-Third-Run.ipynb\" target=\"_parent\"><img src=\"https://colab.research.google.com/assets/colab-badge.svg\" alt=\"Open In Colab\"/></a>"
      ]
    },
    {
      "cell_type": "code",
      "execution_count": 1,
      "metadata": {
        "colab": {
          "base_uri": "https://localhost:8080/",
          "height": 35
        },
        "id": "RnWoX2AtWwWX",
        "outputId": "804e63de-f171-48f2-ebc1-f83bb1d02930"
      },
      "outputs": [
        {
          "output_type": "execute_result",
          "data": {
            "text/plain": [
              "'/content'"
            ],
            "application/vnd.google.colaboratory.intrinsic+json": {
              "type": "string"
            }
          },
          "metadata": {},
          "execution_count": 1
        }
      ],
      "source": [
        "pwd"
      ]
    },
    {
      "cell_type": "code",
      "source": [
        "cd GLC-MATNilm/"
      ],
      "metadata": {
        "colab": {
          "base_uri": "https://localhost:8080/"
        },
        "id": "w6wN3ydwW-FV",
        "outputId": "d0ff1866-42d1-48fd-8a55-46abb88ec7bd"
      },
      "execution_count": 2,
      "outputs": [
        {
          "output_type": "stream",
          "name": "stdout",
          "text": [
            "/content/GLC-MATNilm\n"
          ]
        }
      ]
    },
    {
      "cell_type": "code",
      "source": [
        "from google.colab import drive\n",
        "drive.mount('/content/drive')"
      ],
      "metadata": {
        "colab": {
          "base_uri": "https://localhost:8080/"
        },
        "id": "se2NG89KW_cC",
        "outputId": "ee81ad55-bcc9-4095-f694-7f8fcea4b7d3"
      },
      "execution_count": 3,
      "outputs": [
        {
          "output_type": "stream",
          "name": "stdout",
          "text": [
            "Mounted at /content/drive\n"
          ]
        }
      ]
    },
    {
      "cell_type": "code",
      "source": [
        "%cd /content/GLC-MATNilm"
      ],
      "metadata": {
        "colab": {
          "base_uri": "https://localhost:8080/"
        },
        "id": "_VF96LspXD2A",
        "outputId": "8dca780a-ae26-4469-db50-7249636e3766"
      },
      "execution_count": 4,
      "outputs": [
        {
          "output_type": "stream",
          "name": "stdout",
          "text": [
            "/content/GLC-MATNilm\n"
          ]
        }
      ]
    },
    {
      "cell_type": "code",
      "source": [
        "import os\n",
        "os.makedirs('/content/GLC-MATNilm/history_model/colab_train/s0', exist_ok=True)"
      ],
      "metadata": {
        "id": "hzipdDkgXGxZ"
      },
      "execution_count": 5,
      "outputs": []
    },
    {
      "cell_type": "code",
      "source": [
        "import os\n",
        "os.makedirs('/content/GLC-MATNilm/log/colab_train', exist_ok=True)"
      ],
      "metadata": {
        "id": "91t22TtxXHWE"
      },
      "execution_count": 6,
      "outputs": []
    },
    {
      "cell_type": "code",
      "source": [
        "!python main.py --dataAug --subName colab_train"
      ],
      "metadata": {
        "colab": {
          "base_uri": "https://localhost:8080/"
        },
        "id": "xK7xYFADXIp3",
        "outputId": "e38f489a-5f0c-41f2-8094-618c0ef45009"
      },
      "execution_count": null,
      "outputs": [
        {
          "output_type": "stream",
          "name": "stdout",
          "text": [
            "2025-09-19 14:24:42,789 - root - INFO - Using computation device: cuda:0\n",
            "2025-09-19 14:24:42,789 - root - INFO - Namespace(batch=32, lr=0.001, dropout=0.1, hidden=32, logname='root', subName='colab_train', inputLength=864, outputLength=864, debug=False, dataAug=True, prob0=0.3, prob1=0.6, prob2=0.3, prob3=0.3, test=False, show_graph=False)\n",
            "2025-09-19 14:24:42,789 - root - INFO - loading data\n",
            "2025-09-19 14:24:42,832 - root - INFO - loading data finished\n",
            "2025-09-19 14:24:42,837 - root - INFO - Training size: 27937.\n",
            "2025-09-19 14:24:42,837 - root - INFO - Initialize model\n",
            "2025-09-19 14:24:43,237 - root - INFO - Model MAT\n",
            "2025-09-19 14:24:48,184 - root - INFO - Training start\n",
            "2025-09-19 14:24:48,193 - root - INFO - # of epoches: 0\n",
            "  4% 35/874 [00:44<16:46,  1.20s/it]"
          ]
        }
      ]
    }
  ]
}