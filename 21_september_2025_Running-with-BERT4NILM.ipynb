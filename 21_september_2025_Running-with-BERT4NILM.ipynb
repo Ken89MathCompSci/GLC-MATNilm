{
  "cells": [
    {
      "cell_type": "markdown",
      "metadata": {
        "id": "view-in-github",
        "colab_type": "text"
      },
      "source": [
        "<a href=\"https://colab.research.google.com/github/Ken89MathCompSci/GLC-MATNilm/blob/kengoh-learnable-positional-encoding-and-loss-function-only/21_september_2025_Running-with-BERT4NILM.ipynb\" target=\"_parent\"><img src=\"https://colab.research.google.com/assets/colab-badge.svg\" alt=\"Open In Colab\"/></a>"
      ]
    },
    {
      "cell_type": "code",
      "execution_count": 1,
      "metadata": {
        "colab": {
          "base_uri": "https://localhost:8080/",
          "height": 36
        },
        "id": "5YZH5ETz8gLD",
        "outputId": "f0356a01-5979-402f-b34b-3258ee179083"
      },
      "outputs": [
        {
          "output_type": "execute_result",
          "data": {
            "text/plain": [
              "'/content'"
            ],
            "application/vnd.google.colaboratory.intrinsic+json": {
              "type": "string"
            }
          },
          "metadata": {},
          "execution_count": 1
        }
      ],
      "source": [
        "pwd"
      ]
    },
    {
      "cell_type": "code",
      "execution_count": 2,
      "metadata": {
        "colab": {
          "base_uri": "https://localhost:8080/"
        },
        "id": "2TkbsscECL2s",
        "outputId": "94d0de18-911c-4ca4-9248-7f4017005929"
      },
      "outputs": [
        {
          "output_type": "stream",
          "name": "stdout",
          "text": [
            "/content/GLC-MATNilm\n"
          ]
        }
      ],
      "source": [
        "cd GLC-MATNilm/"
      ]
    },
    {
      "cell_type": "code",
      "execution_count": 3,
      "metadata": {
        "colab": {
          "base_uri": "https://localhost:8080/"
        },
        "id": "zpfgJ6E8Cw5A",
        "outputId": "5611dece-b419-4696-e846-560445998c45"
      },
      "outputs": [
        {
          "output_type": "stream",
          "name": "stdout",
          "text": [
            "Mounted at /content/drive\n"
          ]
        }
      ],
      "source": [
        "from google.colab import drive\n",
        "drive.mount('/content/drive')"
      ]
    },
    {
      "cell_type": "code",
      "execution_count": 4,
      "metadata": {
        "colab": {
          "base_uri": "https://localhost:8080/"
        },
        "id": "3aIvMpz1CymF",
        "outputId": "b7416cb8-d419-46ec-efba-bf7b3ec89acf"
      },
      "outputs": [
        {
          "output_type": "stream",
          "name": "stdout",
          "text": [
            "/content/GLC-MATNilm\n"
          ]
        }
      ],
      "source": [
        "%cd /content/GLC-MATNilm"
      ]
    },
    {
      "cell_type": "code",
      "execution_count": 5,
      "metadata": {
        "id": "XjT6NJtdC3gf"
      },
      "outputs": [],
      "source": [
        "import os\n",
        "os.makedirs('/content/GLC-MATNilm-Learnable-positional-encoding-BERT4NILM-Loss/history_model/colab_train/s0', exist_ok=True)"
      ]
    },
    {
      "cell_type": "code",
      "execution_count": 6,
      "metadata": {
        "id": "R5kvE5QJC5nu"
      },
      "outputs": [],
      "source": [
        "import os\n",
        "os.makedirs('/content/GLC-MATNilm-Learnable-positional-encoding-BERT4NILM-Loss/log/colab_train', exist_ok=True)"
      ]
    },
    {
      "cell_type": "code",
      "execution_count": 7,
      "metadata": {
        "colab": {
          "base_uri": "https://localhost:8080/"
        },
        "id": "X7xB7Qi7C6Gb",
        "outputId": "55ea8bb1-4df0-4d30-a255-86a3b21d16b9"
      },
      "outputs": [
        {
          "output_type": "stream",
          "name": "stdout",
          "text": [
            "usage: main.py [-h] [--batch BATCH] [--lr LR] [--dropout DROPOUT]\n",
            "               [--hidden HIDDEN] [--logname LOGNAME] [--subName SUBNAME]\n",
            "               [--inputLength INPUTLENGTH] [--outputLength OUTPUTLENGTH]\n",
            "               [--debug] [--dataAug] [--prob0 PROB0] [--prob1 PROB1]\n",
            "               [--prob2 PROB2] [--prob3 PROB3] [--resume]\n",
            "               [--checkpoint CHECKPOINT]\n",
            "main.py: error: unrecognized arguments: --output_dir /content/drive/My Drive/GLC-MATNilm-Learnable-positional-encoding-BERT4NILM-Loss_results\n"
          ]
        }
      ],
      "source": [
        "!python main.py --subName BERT4NILM_test"
      ]
    }
  ],
  "metadata": {
    "accelerator": "GPU",
    "colab": {
      "gpuType": "T4",
      "provenance": [],
      "authorship_tag": "ABX9TyOpGSL+H0+w4ZGJ4KYZuGMD",
      "include_colab_link": true
    },
    "kernelspec": {
      "display_name": "Python 3",
      "name": "python3"
    },
    "language_info": {
      "name": "python"
    }
  },
  "nbformat": 4,
  "nbformat_minor": 0
}